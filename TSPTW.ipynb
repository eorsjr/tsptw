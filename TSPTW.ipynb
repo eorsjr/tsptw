{
 "cells": [
  {
   "cell_type": "markdown",
   "metadata": {},
   "source": [
    "# Imports"
   ]
  },
  {
   "cell_type": "code",
   "execution_count": 1,
   "metadata": {},
   "outputs": [],
   "source": [
    "import numpy as np\n",
    "from genetic_algorithm import GeneticAlgorithmTSPTW"
   ]
  },
  {
   "cell_type": "markdown",
   "metadata": {},
   "source": [
    "# Load data"
   ]
  },
  {
   "cell_type": "code",
   "execution_count": 2,
   "metadata": {},
   "outputs": [],
   "source": [
    "# Distance matrix\n",
    "distance_matrix = np.array([\n",
    "    [0, 1, 8, 9, 3, 2, 4, 6],  # From A\n",
    "    [1, 0, 7, 4, 1, 3, 9, 2],  # From B\n",
    "    [8, 7, 0, 6, 8, 2, 4, 5],  # From C\n",
    "    [9, 4, 6, 0, 9, 3, 1, 1],  # From D\n",
    "    [3, 1, 8, 9, 0, 4, 2, 7],  # From E\n",
    "    [2, 3, 2, 3, 4, 0, 6, 3],  # From F\n",
    "    [4, 9, 4, 1, 2, 6, 0, 5],  # From G\n",
    "    [6, 2, 5, 1, 7, 3, 5, 0]   # From H\n",
    "])\n",
    "\n",
    "# Time windows for each city (A, B, C, D, E, F, G, H)\n",
    "time_windows = {\n",
    "    'A': (0, 100),\n",
    "    'B': (3, 12),\n",
    "    'C': (32, 40),\n",
    "    'D': (15, 24),\n",
    "    'E': (3, 6),\n",
    "    'F': (6, 10),\n",
    "    'G': (25, 30),\n",
    "    'H': (50, 52)\n",
    "}"
   ]
  },
  {
   "cell_type": "code",
   "execution_count": 3,
   "metadata": {},
   "outputs": [
    {
     "name": "stdout",
     "output_type": "stream",
     "text": [
      "Distance Matrix:\n",
      "[[0 1 8 9 3 2 4 6]\n",
      " [1 0 7 4 1 3 9 2]\n",
      " [8 7 0 6 8 2 4 5]\n",
      " [9 4 6 0 9 3 1 1]\n",
      " [3 1 8 9 0 4 2 7]\n",
      " [2 3 2 3 4 0 6 3]\n",
      " [4 9 4 1 2 6 0 5]\n",
      " [6 2 5 1 7 3 5 0]]\n",
      "\n",
      "Time Windows:\n",
      "City A: Min = 0, Max = 100\n",
      "City B: Min = 3, Max = 12\n",
      "City C: Min = 32, Max = 40\n",
      "City D: Min = 15, Max = 24\n",
      "City E: Min = 3, Max = 6\n",
      "City F: Min = 6, Max = 10\n",
      "City G: Min = 25, Max = 30\n",
      "City H: Min = 50, Max = 52\n"
     ]
    }
   ],
   "source": [
    "# Display the loaded data\n",
    "print(\"Distance Matrix:\")\n",
    "print(distance_matrix)\n",
    "print(\"\\nTime Windows:\")\n",
    "for city, window in time_windows.items():\n",
    "    print(f\"City {city}: Min = {window[0]}, Max = {window[1]}\")"
   ]
  },
  {
   "cell_type": "markdown",
   "metadata": {},
   "source": [
    "# Run the Genetic Algorithm"
   ]
  },
  {
   "cell_type": "code",
   "execution_count": 4,
   "metadata": {},
   "outputs": [],
   "source": [
    "# Initialize the GA\n",
    "ga = GeneticAlgorithmTSPTW(\n",
    "    distance_matrix=distance_matrix,\n",
    "    time_windows=time_windows,\n",
    "    population_size=100,\n",
    "    mutation_rate=0.1,\n",
    "    generations=300\n",
    ")\n",
    "\n",
    "# Run the algorithm\n",
    "best_route, best_cost = ga.run()"
   ]
  },
  {
   "cell_type": "markdown",
   "metadata": {},
   "source": [
    "#  Check for feasible solution"
   ]
  },
  {
   "cell_type": "code",
   "execution_count": 5,
   "metadata": {},
   "outputs": [
    {
     "name": "stdout",
     "output_type": "stream",
     "text": [
      "No feasible solution without violations.\n"
     ]
    }
   ],
   "source": [
    "penalty = ga.calc_penalty(best_route)\n",
    "\n",
    "if penalty == 0:\n",
    "    print(\"Feasible solution found with no time window violations!\")\n",
    "else:\n",
    "    print(\"No feasible solution without violations.\")"
   ]
  },
  {
   "cell_type": "markdown",
   "metadata": {},
   "source": [
    "# Solution"
   ]
  },
  {
   "cell_type": "code",
   "execution_count": 6,
   "metadata": {},
   "outputs": [
    {
     "name": "stdout",
     "output_type": "stream",
     "text": [
      "Best Route: A → F → C → G → D → H → B → E → A\n",
      "\n",
      " Evaluation:\n",
      "- Total Distance: 16\n",
      "- Time Window Violations (Penalty): 6\n",
      "- Total Cost (Distance + Penalty): 22\n"
     ]
    }
   ],
   "source": [
    "distance, penalty, total_cost = ga.eval_route(best_route)\n",
    "\n",
    "city_names = list(time_windows.keys())\n",
    "route = [city_names[i] for i in best_route]\n",
    "print(\"Best Route:\", ' → '.join(route))\n",
    "\n",
    "print(f\"\\n Evaluation:\")\n",
    "print(f\"- Total Distance: {distance}\")\n",
    "print(f\"- Time Window Violations (Penalty): {penalty}\")\n",
    "print(f\"- Total Cost (Distance + Penalty): {total_cost}\")"
   ]
  }
 ],
 "metadata": {
  "kernelspec": {
   "display_name": "scientific_python",
   "language": "python",
   "name": "python3"
  },
  "language_info": {
   "codemirror_mode": {
    "name": "ipython",
    "version": 3
   },
   "file_extension": ".py",
   "mimetype": "text/x-python",
   "name": "python",
   "nbconvert_exporter": "python",
   "pygments_lexer": "ipython3",
   "version": "3.12.9"
  }
 },
 "nbformat": 4,
 "nbformat_minor": 2
}
